{
  "nbformat": 4,
  "nbformat_minor": 0,
  "metadata": {
    "colab": {
      "name": "deep-flow-ids.ipynb",
      "version": "0.3.2",
      "provenance": [],
      "collapsed_sections": []
    },
    "kernelspec": {
      "name": "python3",
      "display_name": "Python 3"
    },
    "accelerator": "TPU"
  },
  "cells": [
    {
      "metadata": {
        "id": "EwkKmBCOzcKJ",
        "colab_type": "text"
      },
      "cell_type": "markdown",
      "source": [
        "# Network Intrusion Detection with Machine Learning"
      ]
    },
    {
      "metadata": {
        "id": "pZFLv1Tf0PVw",
        "colab_type": "text"
      },
      "cell_type": "markdown",
      "source": [
        "## Introduction"
      ]
    },
    {
      "metadata": {
        "id": "0RGgaCUo4Vcb",
        "colab_type": "text"
      },
      "cell_type": "markdown",
      "source": [
        "\n",
        "Cyber attacks are becoming increasly varied and sophisticated with the growing use of Internet and IoT devices. This trend undermines the effectiveness of traditional rule/signature-based IDS (intrusion detection systems). The question is: can we make the IDS smart enough to identify attacks that were never seen before?\n",
        "\n",
        "This document addresses this quesion by demonstrating a prototype workflow. It is organized as follows:\n",
        "\n",
        "First, capture network traffic packets and transform them into high-level data sheets with fact labels. Sencond, train the labeled data (UNSW-NB15) on machine learning models such as decision trees and neural network. Third, evaluate the validility of machine learning IDS application by predicting unknown attacks. Fourth, argue about future steps (e.g. use LSTM layer) and potential use cases (e.g. IoT network, Hyperledger network)."
      ]
    },
    {
      "metadata": {
        "id": "LXJsMjnC27Fr",
        "colab_type": "text"
      },
      "cell_type": "markdown",
      "source": [
        "## Network Data Preparation\n",
        "\n",
        "We need network traffic data to represent network activities. Using well-formatted data, we can do the following 1) feed a large set of labeled network data to train machine learning models, and 2) give a pre-trained machine learning model an arbitrary number of unlabeled records to identify possible intrusions."
      ]
    },
    {
      "metadata": {
        "id": "pNdBFbH54YiJ",
        "colab_type": "text"
      },
      "cell_type": "markdown",
      "source": [
        "### Data Format\n",
        "\n",
        "The base solution is to capture pcap files by listening on specified interfaces. For example, to capture the network activties on eth0 and save to test.pcap file, execute command: `tcpdump -i eth0 -w test.pcap`\n",
        "\n",
        "A pcap file has a global header containing some global information followed by zero or more records for each captured packet, looking like this:\n",
        "\n",
        "| Global Header | Packet Header | Packet Data | Packet Header | Packet Data | Packet Header | Packet Data | ... |\n",
        "| --- | --- | --- | --- | --- | --- | --- | --- | --- |\n",
        "| AAA | BBB | CCC | DDD | EEE | FFF | GGG | ... |\n",
        "| ... | ... | ... | ... | ... | ... | ... | ... |\n",
        "\n",
        "Pcap file is the de-facto raw format for network activity recording. This format is very simple, one of the reasons that it has gained such a wide usage. However, it does not provide high-level analysis abilities.\n",
        "\n",
        "Many tools provide customizable analysis abilities by reading and translating network traffic files in various formats (including pcap). For example, Argus and Bro.\n",
        "\n",
        "- **Argus** (the Audit Record Generation and Utilization System) is an open source layer 2+ auditing tool (including IP audit).\n",
        "- **Bro** is a passive, open-source network traffic analyzer. It is primarily a security monitor that inspects all traffic on a link in depth for signs of suspicious activity.\n",
        "\n",
        "Let's transform the collected raw pcap file.\n",
        "    \n",
        "For Argus: `argus -r test.pcap -w - | ra -s +1dur +tcprtt`\n",
        "\n",
        "| StartTime | Dur | Flgs | Proto | SrcAddr | Sport | Dir | DstAddr | Dport | TotPkts | TotBytes | State | TcpRtt |\n",
        "| --- | --- | --- | --- | --- | --- | --- | --- | --- | --- | --- | --- | --- | --- |\n",
        "| ... | ... | ... | ... | ... | ... | ... | ... | ... | ... | ... | ... | ... |\n",
        " \n",
        "For Bro, the default is even more comprehensive: `bro -r test.pcap`\n",
        "\n",
        "|\tts | uid | id.orig_h |\tid.orig_p\t| id.resp_h\t| id.resp_p\t| proto |\tservice |\tduration |\torig_bytes |\tresp_bytes |\tconn_state |\tlocal_orig |\tlocal_resp |\tmissed_bytes |\thistory |\torig_pkts |\t... |\n",
        "| --- | --- | --- | --- | --- | --- | --- | --- | --- | --- | --- | --- | --- | --- | --- | --- | --- | --- | --- |\n",
        "| ... | ... | ... | ... | ... | ... | ... | ... | ... | ... | ... | ... | ... | ... | ... | ... | ... | ... |\n",
        "\n",
        "On the one hand, for the purpose of training machine learning models, we need a large dataset containg labeled (Normal/Intrusion/etc.) network traffic data in high-level format similar to the output of the above libraries.\n",
        "\n",
        "On the other hand, to predict the property of a specific network event, we need to represent this event to the same data format that was used for machine learning first, then feed it to the pre-trained model to see results."
      ]
    },
    {
      "metadata": {
        "id": "5_ZyfbfO5Plt",
        "colab_type": "text"
      },
      "cell_type": "markdown",
      "source": [
        "### The UNSW_NB15 dataset\n",
        "\n",
        "Due to the challenges of collecting, processing, and labeling a large number of network traffic data, the project will use the [UNSW-NB15](https://www.unsw.adfa.edu.au/unsw-canberra-cyber/cybersecurity/ADFA-NB15-Datasets/) dataset and focus on the analytics part.\n",
        "\n",
        "The raw network packets of the UNSW-NB 15 dataset was created by the IXIA PerfectStorm tool in the Cyber Range Lab of the Australian Centre for Cyber Security (ACCS) for generating a hybrid of real modern normal activities and synthetic contemporary attack behaviours.\n",
        "\n",
        "Tcpdump tool is utilised to capture 100 GB of the raw traffic (e.g., Pcap files). This dataset has nine types of attacks, namely, Fuzzers, Analysis, Backdoors, DoS, Exploits, Generic, Reconnaissance, Shellcode and Worms. The Argus, Bro-IDS tools are used and twelve algorithms are developed to generate totally 49 features with the class label.\n",
        "\n",
        "![Figure 2: The method of feature creation](https://www.unsw.adfa.edu.au/unsw-canberra-cyber/cybersecurity/ADFA-NB15-Datasets/img/feature-creation.bmp)\n",
        "\n",
        "The details of the UNSW-NB15 dataset are published in following the papers:\n",
        "\n",
        "1. Moustafa, Nour, and Jill Slay. \"UNSW-NB15: a comprehensive data set for network intrusion detection systems (UNSW-NB15 network data set).\"Military Communications and Information Systems Conference (MilCIS), 2015. IEEE, 2015.\n",
        "2. Moustafa, Nour, and Jill Slay. \"The evaluation of Network Anomaly Detection Systems: Statistical analysis of the UNSW-NB15 dataset and the comparison with the KDD99 dataset.\" Information Security Journal: A Global Perspective (2016): 1-14.\n",
        "\n",
        "Free use of the UNSW-NB15 dataset for academic research purposes is granted by the authors."
      ]
    },
    {
      "metadata": {
        "id": "0TNachjP4DmJ",
        "colab_type": "text"
      },
      "cell_type": "markdown",
      "source": [
        "## Intrustion Classification with Machine Learning\n",
        "\n",
        "This diagram shows the proposed workflow for machine learning intrusion detection system. For each step, more details are explained in the following sections.\n",
        "\n",
        "![ml-ids-module](https://raw.githubusercontent.com/honchao-w/deep-flow-ids/master/images/ml-ids-module.png)"
      ]
    },
    {
      "metadata": {
        "id": "-bsDJ71U4eEq",
        "colab_type": "text"
      },
      "cell_type": "markdown",
      "source": [
        "### Download the UNSW-NB15 dataset"
      ]
    },
    {
      "metadata": {
        "id": "WDfcU4GJruAX",
        "colab_type": "code",
        "outputId": "0ac1f6c4-db2b-4b24-8b24-495086c574d8",
        "colab": {
          "base_uri": "https://localhost:8080/",
          "height": 51
        }
      },
      "cell_type": "code",
      "source": [
        "!curl -s -O https://raw.githubusercontent.com/honchao-w/deep-flow-ids/master/data/NUSW-NB15_features.csv\n",
        "!curl -s -O https://raw.githubusercontent.com/honchao-w/deep-flow-ids/master/data/UNSW_NB15_training-set.csv\n",
        "!curl -s -O https://raw.githubusercontent.com/honchao-w/deep-flow-ids/master/data/UNSW_NB15_testing-set.csv\n",
        "!ls"
      ],
      "execution_count": 1,
      "outputs": [
        {
          "output_type": "stream",
          "text": [
            "NUSW-NB15_features.csv\tUNSW_NB15_testing-set.csv\n",
            "sample_data\t\tUNSW_NB15_training-set.csv\n"
          ],
          "name": "stdout"
        }
      ]
    },
    {
      "metadata": {
        "id": "6b1-SgbqsX2H",
        "colab_type": "text"
      },
      "cell_type": "markdown",
      "source": [
        "### Prepocess the data\n",
        "\n",
        "This project uses both scikit-learn and Keras (using TensorFlow backend) to build and train machine learing models. To utilize these libraries, the raw cvs files need to be converted to numpy ndarrays, and furthermore even a tensor – a generalization of vectors and matrices which also represents n-dimensional arrays used by TensorFlow.\n",
        "\n",
        "The preparation process takes a few steps, for example:\n",
        "\n",
        "- Normalization: normalize numerical features using min-max scaling.\n",
        "- Feature engineering: replace all outlier categorical features with a single value to reduce the dimenionality of the later one-hot encoding.\n",
        "- Encode categorical values: create one-hot encodings for categorical features to preclude ordered relationships among them.\n",
        "- Split dataset: 1) split it into train/test (train, test) set, and 2) split each set into features (x_train, x_test) and targets (y_train, y_test).\n",
        "\n",
        "Some of the above steps are programmed optional, so we can investigate their impacts on the intrusion detection quality."
      ]
    },
    {
      "metadata": {
        "id": "kGIbmAhSGxSF",
        "colab_type": "code",
        "colab": {}
      },
      "cell_type": "code",
      "source": [
        "import numpy as np\n",
        "import pandas as pd\n",
        "\n",
        "class USWNB15:\n",
        "  \n",
        "  # UNSW-NB15 dataset locations\n",
        "  unsw_nb15_trn = \"UNSW_NB15_testing-set.csv\"\n",
        "  unsw_nb15_tst = \"UNSW_NB15_training-set.csv\"\n",
        "  unsw_nb15_ftr = \"NUSW-NB15_features.csv\"\n",
        "  \n",
        "  # The names of numerical columns\n",
        "  num_cols = ['dur', 'spkts', 'dpkts', 'sbytes', 'dbytes', 'rate', 'sttl', 'dttl',\n",
        "       'sload', 'dload', 'sloss', 'dloss', 'sinpkt', 'dinpkt', 'sjit', 'djit',\n",
        "       'swin', 'stcpb', 'dtcpb', 'dwin', 'tcprtt', 'synack', 'ackdat',\n",
        "       'smean', 'dmean', 'trans_depth', 'response_body_len', 'ct_srv_src',\n",
        "       'ct_state_ttl', 'ct_dst_ltm', 'ct_src_dport_ltm', 'ct_dst_sport_ltm',\n",
        "       'ct_dst_src_ltm', 'is_ftp_login', 'ct_ftp_cmd', 'ct_flw_http_mthd',\n",
        "       'ct_src_ltm', 'ct_srv_dst', 'is_sm_ips_ports']\n",
        "  \n",
        "  # The names of categorical columns\n",
        "  cat_cols = ['proto', 'service', 'state']\n",
        "  \n",
        "  # The names of target columns\n",
        "  y_cols = ['attack_cat', 'label']\n",
        "  \n",
        "  # Frequent values of in each categorical features\n",
        "  cat_freq_val = {\n",
        "      'proto': ['tcp', 'udp', 'unas', 'arp', 'ospf', 'sctp'],\n",
        "      'service': ['dns', 'http', 'smtp', 'ftp-data', 'ftp', 'ssh', 'pop3'],\n",
        "      'state': ['INT', 'FIN', 'CON', 'REQ']\n",
        "  }\n",
        "  \n",
        "  \"\"\"\n",
        "  Initialize dataset object\n",
        "  \"\"\"\n",
        "  def __init__(self, raw):\n",
        "    self.all = self.read_from_csv()\n",
        "    \n",
        "    # Reduce dimensionality if requested\n",
        "    if raw:\n",
        "      self.reduced = False\n",
        "    else:\n",
        "      self.reduce_dimension(self.all)\n",
        "      self.reduced = True\n",
        "    \n",
        "    self.normalize(self.all)\n",
        "    self.all_oh = self.one_hot(self.all)\n",
        "    self.load_all()\n",
        "    self.load_intrusion()\n",
        "    \n",
        "    print('USW-NB15 data is loaded.')\n",
        "  \n",
        "  \"\"\"\n",
        "  Load data and split it into subsets such as train/test and features/targets\n",
        "  \"\"\"\n",
        "  def load_all(self):\n",
        "    self.train = self.all_oh.loc['train']\n",
        "    self.test = self.all_oh.loc['test']\n",
        "    \n",
        "    self.x_train, self.y_train_cat, self.y_train_lab = self.split_xy(\n",
        "        self.train)\n",
        "    self.x_test, self.y_test_cat, self.y_test_lab = self.split_xy(\n",
        "        self.test)\n",
        "  \n",
        "  \"\"\"\n",
        "  Load only intrusion records\n",
        "  \"\"\"\n",
        "  def load_intrusion(self):\n",
        "    train_idx = np.where(self.train['label'] == 1)\n",
        "    test_idx = np.where(self.test['label'] == 1)\n",
        "    \n",
        "    self.x_train_i, self.y_train_i = self.select_df_pair_rows(\n",
        "        self.x_train, self.y_train_cat, train_idx)\n",
        "    \n",
        "    self.x_test_i, self.y_test_i = self.select_df_pair_rows(\n",
        "        self.x_test, self.y_test_cat, test_idx)\n",
        "  \n",
        "  \"\"\"\n",
        "  Split the data into features and targets\n",
        "  \"\"\"\n",
        "  def split_xy(self, df):\n",
        "    x = df.drop(self.y_oh_cols, axis=1).values\n",
        "    y_cat = df[self.y_oh_cols[:-1]].values\n",
        "    y_lab = df[self.y_oh_cols[-1:]].values\n",
        "    \n",
        "    return x, y_cat, y_lab\n",
        "  \n",
        "  \"\"\"\n",
        "  Select specified rows for a pair of dataframe\n",
        "  \"\"\"\n",
        "  def select_df_pair_rows(self, x, y, rows):\n",
        "    return x[rows,:][0], y[rows, :][0]\n",
        "    \n",
        "  \"\"\"\n",
        "  Read data from csv file\n",
        "  \"\"\"\n",
        "  def read_from_csv(self):\n",
        "    self.ftr_df = pd.read_csv(\n",
        "        self.unsw_nb15_ftr, encoding = \"ISO-8859-1\", index_col='No.')\n",
        "    \n",
        "    trn_df = pd.read_csv(self.unsw_nb15_trn, index_col='id')\n",
        "    tst_df = pd.read_csv(self.unsw_nb15_tst, index_col='id')\n",
        "    all_df = pd.concat([trn_df, tst_df], keys=['train', 'test'])\n",
        "    return all_df\n",
        "    \n",
        "  \"\"\"\n",
        "  Simplify categorical features in preparation for one-hot encoding\n",
        "  \"\"\"\n",
        "  def reduce_dimension(self, df):\n",
        "    for attr in self.cat_cols:\n",
        "      df.loc[~df[attr].isin(self.cat_freq_val[attr]), attr] = 'other'\n",
        "  \n",
        "  \"\"\"\n",
        "  normalize\n",
        "  \"\"\"\n",
        "  def normalize(self, df):\n",
        "    cols = self.num_cols\n",
        "    df[cols] = df[cols].apply(\n",
        "        lambda x: (x - x.mean()) / (x.max() - x.min()))\n",
        "  \n",
        "  \"\"\"\n",
        "  One-hot encoding categorical features\n",
        "  \"\"\"\n",
        "  def one_hot(self, df):\n",
        "    # one-hot encode categorical features\n",
        "    df = pd.get_dummies(data=df, columns=self.cat_cols)\n",
        "    \n",
        "    # one-hot encode the attack_cat label; leave binary label as is\n",
        "    df = pd.get_dummies(data=df, columns=['attack_cat'])\n",
        "    \n",
        "    # move label column to the end\n",
        "    cols = df.columns.tolist()\n",
        "    cols = [col for col in df if col != 'label'] + ['label']\n",
        "    df = df[cols]\n",
        "    \n",
        "    # target column names for one-hot encoded dataset  \n",
        "    self.y_oh_cols = [\n",
        "        col for col in df if col.startswith('attack_cat')\n",
        "    ] + ['label']\n",
        "    \n",
        "    # feature column names for one-hot encoded dataset\n",
        "    self.x_oh_cols = [col for col in df if col not in self.y_oh_cols]\n",
        "    \n",
        "    return df\n",
        "  \n",
        "  \"\"\"\n",
        "  statistics\n",
        "  \"\"\"\n",
        "  def stat(self):\n",
        "    # to do\n",
        "    print(\"Total number of records: \", len(self.x_train))"
      ],
      "execution_count": 0,
      "outputs": []
    },
    {
      "metadata": {
        "id": "e4HY6UdK70kE",
        "colab_type": "text"
      },
      "cell_type": "markdown",
      "source": [
        "### Explore the data"
      ]
    },
    {
      "metadata": {
        "id": "bjL8ay1uCCQw",
        "colab_type": "code",
        "colab": {
          "base_uri": "https://localhost:8080/",
          "height": 34
        },
        "outputId": "ff749609-3e4f-401d-c662-c8544a9903b2"
      },
      "cell_type": "code",
      "source": [
        "data = USWNB15(True)"
      ],
      "execution_count": 5,
      "outputs": [
        {
          "output_type": "stream",
          "text": [
            "USW-NB15 data is loaded.\n"
          ],
          "name": "stdout"
        }
      ]
    },
    {
      "metadata": {
        "id": "udbFQ2yEzFdW",
        "colab_type": "text"
      },
      "cell_type": "markdown",
      "source": [
        "These features are described in UNSW-NB15_features.csv file. Let's see the first 3 rows:"
      ]
    },
    {
      "metadata": {
        "id": "DUNBlmA8w4Ac",
        "colab_type": "code",
        "colab": {
          "base_uri": "https://localhost:8080/",
          "height": 173
        },
        "outputId": "3d93641b-4cae-4b1f-9cb7-07706acaadc0"
      },
      "cell_type": "code",
      "source": [
        "data.ftr_df.head(3)"
      ],
      "execution_count": 6,
      "outputs": [
        {
          "output_type": "execute_result",
          "data": {
            "text/html": [
              "<div>\n",
              "<style scoped>\n",
              "    .dataframe tbody tr th:only-of-type {\n",
              "        vertical-align: middle;\n",
              "    }\n",
              "\n",
              "    .dataframe tbody tr th {\n",
              "        vertical-align: top;\n",
              "    }\n",
              "\n",
              "    .dataframe thead th {\n",
              "        text-align: right;\n",
              "    }\n",
              "</style>\n",
              "<table border=\"1\" class=\"dataframe\">\n",
              "  <thead>\n",
              "    <tr style=\"text-align: right;\">\n",
              "      <th></th>\n",
              "      <th>Name</th>\n",
              "      <th>Type</th>\n",
              "      <th>Description</th>\n",
              "    </tr>\n",
              "    <tr>\n",
              "      <th>No.</th>\n",
              "      <th></th>\n",
              "      <th></th>\n",
              "      <th></th>\n",
              "    </tr>\n",
              "  </thead>\n",
              "  <tbody>\n",
              "    <tr>\n",
              "      <th>1</th>\n",
              "      <td>srcip</td>\n",
              "      <td>nominal</td>\n",
              "      <td>Source IP address</td>\n",
              "    </tr>\n",
              "    <tr>\n",
              "      <th>2</th>\n",
              "      <td>sport</td>\n",
              "      <td>integer</td>\n",
              "      <td>Source port number</td>\n",
              "    </tr>\n",
              "    <tr>\n",
              "      <th>3</th>\n",
              "      <td>dstip</td>\n",
              "      <td>nominal</td>\n",
              "      <td>Destination IP address</td>\n",
              "    </tr>\n",
              "  </tbody>\n",
              "</table>\n",
              "</div>"
            ],
            "text/plain": [
              "      Name    Type              Description\n",
              "No.                                        \n",
              "1    srcip  nominal       Source IP address\n",
              "2    sport  integer      Source port number\n",
              "3    dstip  nominal  Destination IP address"
            ]
          },
          "metadata": {
            "tags": []
          },
          "execution_count": 6
        }
      ]
    },
    {
      "metadata": {
        "id": "7-ZYiCt1Ddt6",
        "colab_type": "text"
      },
      "cell_type": "markdown",
      "source": [
        "The ground truth table is named UNSW-NB15_GT.csv and the list of event file is called UNSW-NB15_LIST_EVENTS.csv.\n",
        "\n",
        "A partition from this dataset is configured as a training set and testing set, namely, UNSW_NB15_training-set.csv and UNSW_NB15_testing-set.csv respectively.\n",
        "\n",
        "The number of records in the training set is 175,341 records and the testing set is 82,332 records from the different types, attack and normal.Figure 1 and 2 show the testbed configuration dataset and the method of the feature creation of the UNSW-NB15, respectively.\n",
        "\n",
        "Let's see the first 3 rows of the one-hot encoded training data:"
      ]
    },
    {
      "metadata": {
        "id": "rtNHsZ_niplu",
        "colab_type": "code",
        "outputId": "2015db94-c502-44db-a7b8-f53d1cb2874c",
        "colab": {
          "base_uri": "https://localhost:8080/",
          "height": 222
        }
      },
      "cell_type": "code",
      "source": [
        "data.train.head(3)"
      ],
      "execution_count": 7,
      "outputs": [
        {
          "output_type": "execute_result",
          "data": {
            "text/html": [
              "<div>\n",
              "<style scoped>\n",
              "    .dataframe tbody tr th:only-of-type {\n",
              "        vertical-align: middle;\n",
              "    }\n",
              "\n",
              "    .dataframe tbody tr th {\n",
              "        vertical-align: top;\n",
              "    }\n",
              "\n",
              "    .dataframe thead th {\n",
              "        text-align: right;\n",
              "    }\n",
              "</style>\n",
              "<table border=\"1\" class=\"dataframe\">\n",
              "  <thead>\n",
              "    <tr style=\"text-align: right;\">\n",
              "      <th></th>\n",
              "      <th>dur</th>\n",
              "      <th>spkts</th>\n",
              "      <th>dpkts</th>\n",
              "      <th>sbytes</th>\n",
              "      <th>dbytes</th>\n",
              "      <th>rate</th>\n",
              "      <th>sttl</th>\n",
              "      <th>dttl</th>\n",
              "      <th>sload</th>\n",
              "      <th>dload</th>\n",
              "      <th>...</th>\n",
              "      <th>attack_cat_Backdoor</th>\n",
              "      <th>attack_cat_DoS</th>\n",
              "      <th>attack_cat_Exploits</th>\n",
              "      <th>attack_cat_Fuzzers</th>\n",
              "      <th>attack_cat_Generic</th>\n",
              "      <th>attack_cat_Normal</th>\n",
              "      <th>attack_cat_Reconnaissance</th>\n",
              "      <th>attack_cat_Shellcode</th>\n",
              "      <th>attack_cat_Worms</th>\n",
              "      <th>label</th>\n",
              "    </tr>\n",
              "    <tr>\n",
              "      <th>id</th>\n",
              "      <th></th>\n",
              "      <th></th>\n",
              "      <th></th>\n",
              "      <th></th>\n",
              "      <th></th>\n",
              "      <th></th>\n",
              "      <th></th>\n",
              "      <th></th>\n",
              "      <th></th>\n",
              "      <th></th>\n",
              "      <th></th>\n",
              "      <th></th>\n",
              "      <th></th>\n",
              "      <th></th>\n",
              "      <th></th>\n",
              "      <th></th>\n",
              "      <th></th>\n",
              "      <th></th>\n",
              "      <th></th>\n",
              "      <th></th>\n",
              "      <th></th>\n",
              "    </tr>\n",
              "  </thead>\n",
              "  <tbody>\n",
              "    <tr>\n",
              "      <th>1</th>\n",
              "      <td>-0.018754</td>\n",
              "      <td>-0.001294</td>\n",
              "      <td>-0.001317</td>\n",
              "      <td>-0.000579</td>\n",
              "      <td>-0.000970</td>\n",
              "      <td>-0.091180</td>\n",
              "      <td>0.282349</td>\n",
              "      <td>0.666319</td>\n",
              "      <td>-0.011789</td>\n",
              "      <td>-0.028976</td>\n",
              "      <td>...</td>\n",
              "      <td>0</td>\n",
              "      <td>0</td>\n",
              "      <td>0</td>\n",
              "      <td>0</td>\n",
              "      <td>0</td>\n",
              "      <td>1</td>\n",
              "      <td>0</td>\n",
              "      <td>0</td>\n",
              "      <td>0</td>\n",
              "      <td>0</td>\n",
              "    </tr>\n",
              "    <tr>\n",
              "      <th>2</th>\n",
              "      <td>-0.009947</td>\n",
              "      <td>-0.000543</td>\n",
              "      <td>0.001768</td>\n",
              "      <td>-0.000546</td>\n",
              "      <td>0.001885</td>\n",
              "      <td>-0.091175</td>\n",
              "      <td>-0.462749</td>\n",
              "      <td>0.658445</td>\n",
              "      <td>-0.011790</td>\n",
              "      <td>-0.006897</td>\n",
              "      <td>...</td>\n",
              "      <td>0</td>\n",
              "      <td>0</td>\n",
              "      <td>0</td>\n",
              "      <td>0</td>\n",
              "      <td>0</td>\n",
              "      <td>1</td>\n",
              "      <td>0</td>\n",
              "      <td>0</td>\n",
              "      <td>0</td>\n",
              "      <td>0</td>\n",
              "    </tr>\n",
              "    <tr>\n",
              "      <th>3</th>\n",
              "      <td>0.006274</td>\n",
              "      <td>-0.001106</td>\n",
              "      <td>-0.000228</td>\n",
              "      <td>-0.000572</td>\n",
              "      <td>-0.000082</td>\n",
              "      <td>-0.091240</td>\n",
              "      <td>-0.462749</td>\n",
              "      <td>0.658445</td>\n",
              "      <td>-0.011791</td>\n",
              "      <td>-0.026637</td>\n",
              "      <td>...</td>\n",
              "      <td>0</td>\n",
              "      <td>0</td>\n",
              "      <td>0</td>\n",
              "      <td>0</td>\n",
              "      <td>0</td>\n",
              "      <td>1</td>\n",
              "      <td>0</td>\n",
              "      <td>0</td>\n",
              "      <td>0</td>\n",
              "      <td>0</td>\n",
              "    </tr>\n",
              "  </tbody>\n",
              "</table>\n",
              "<p>3 rows × 207 columns</p>\n",
              "</div>"
            ],
            "text/plain": [
              "         dur     spkts     dpkts    sbytes    dbytes      rate      sttl  \\\n",
              "id                                                                         \n",
              "1  -0.018754 -0.001294 -0.001317 -0.000579 -0.000970 -0.091180  0.282349   \n",
              "2  -0.009947 -0.000543  0.001768 -0.000546  0.001885 -0.091175 -0.462749   \n",
              "3   0.006274 -0.001106 -0.000228 -0.000572 -0.000082 -0.091240 -0.462749   \n",
              "\n",
              "        dttl     sload     dload  ...    attack_cat_Backdoor  attack_cat_DoS  \\\n",
              "id                                ...                                          \n",
              "1   0.666319 -0.011789 -0.028976  ...                      0               0   \n",
              "2   0.658445 -0.011790 -0.006897  ...                      0               0   \n",
              "3   0.658445 -0.011791 -0.026637  ...                      0               0   \n",
              "\n",
              "    attack_cat_Exploits  attack_cat_Fuzzers  attack_cat_Generic  \\\n",
              "id                                                                \n",
              "1                     0                   0                   0   \n",
              "2                     0                   0                   0   \n",
              "3                     0                   0                   0   \n",
              "\n",
              "    attack_cat_Normal  attack_cat_Reconnaissance  attack_cat_Shellcode  \\\n",
              "id                                                                       \n",
              "1                   1                          0                     0   \n",
              "2                   1                          0                     0   \n",
              "3                   1                          0                     0   \n",
              "\n",
              "    attack_cat_Worms  label  \n",
              "id                           \n",
              "1                  0      0  \n",
              "2                  0      0  \n",
              "3                  0      0  \n",
              "\n",
              "[3 rows x 207 columns]"
            ]
          },
          "metadata": {
            "tags": []
          },
          "execution_count": 7
        }
      ]
    },
    {
      "metadata": {
        "id": "HA6orihZ8XHQ",
        "colab_type": "text"
      },
      "cell_type": "markdown",
      "source": [
        "### Build the model\n",
        "\n",
        "Essentially, the task of intrusion detection is a classification task in the context of machine learing.  It can be further divided into two cases: 1) **binary classification**, if the IDS only needs to assert whether a given event is an attack or not; and 2) **multiclass classification**, if the IDS needs to report the exact category if there is an intrusion detected. We might have different expectations and evaluation metrics for these two different cases. And in fact, it is also an important factor to consider when deciding which machine learing model to deploy at which stages.\n",
        "\n",
        "For the purpose of experiment, I implemented machine learning workflows for label classification (binary) and category classfication (multiclass) using both decision trees and neural networks:\n",
        "\n",
        "- **Decision trees**: used an extra-trees classifier; this class implements a meta estimator that fits a number of randomized decision trees on various sub-samples of the dataset and uses averaging to improve the predictive accuracy and control over-fitting.\n",
        "- **Feedforward neural network**: neural network is composed of a large number of highly interconnected processing elements working in unison to solve specific problems; like people, it learns by example."
      ]
    },
    {
      "metadata": {
        "id": "PuZAL5EOsv6Q",
        "colab_type": "code",
        "colab": {}
      },
      "cell_type": "code",
      "source": [
        "from tensorflow import keras\n",
        "\n",
        "from sklearn.metrics import confusion_matrix\n",
        "from sklearn.ensemble import ExtraTreesClassifier\n",
        "\n",
        "class MachineLearning:\n",
        "  \n",
        "  def __init__(self, data):\n",
        "    self.d = data\n",
        "  \n",
        "  \"\"\"\n",
        "  Neural network for label classification\n",
        "  \"\"\"\n",
        "  def neural_network(self):\n",
        "    \n",
        "    if self.d.reduced:\n",
        "      model = keras.Sequential([\n",
        "          keras.layers.Dense(32, activation='relu'),\n",
        "          keras.layers.Dense(1, activation='sigmoid')\n",
        "      ])\n",
        "    else:\n",
        "      model = keras.Sequential([\n",
        "          keras.layers.Dense(128, activation='relu'),\n",
        "          keras.layers.Dense(32, activation='relu'),\n",
        "          keras.layers.Dense(16, activation='relu'),\n",
        "          keras.layers.Dense(1, activation='sigmoid')\n",
        "      ])\n",
        "\n",
        "    model.compile(optimizer='adam',\n",
        "                  loss = 'binary_crossentropy',\n",
        "                  metrics=['accuracy'])\n",
        "    \n",
        "    x_train, y_train, x_test, y_test = self.data_for_lab()\n",
        "    \n",
        "    rand_idx = [i for i in random.sample(range(len(x_test)),\n",
        "                                         int(len(x_test) / 10))]\n",
        "    \n",
        "    self.nn_history = model.fit(x_train,\n",
        "                                y_train,\n",
        "                                shuffle=True,\n",
        "                                batch_size=64,\n",
        "                                #validation_split=0.1,\n",
        "                                validation_data=(x_test[rand_idx, :],\n",
        "                                                 y_test[rand_idx, :]),\n",
        "                                epochs=6)\n",
        "    \n",
        "    test_loss, test_acc = model.evaluate(x_test, y_test)\n",
        "    print('Test accuracy:', test_acc)\n",
        "    \n",
        "    self.nn_model = model\n",
        "  \n",
        "  \"\"\"\n",
        "  Neural network for category classification\n",
        "  \n",
        "  :param bool intrusion_only: train model on only instruion data\n",
        "  \"\"\"\n",
        "  def neural_network_cat(self, intrusion_only):\n",
        "    \n",
        "    if self.d.reduced:\n",
        "      model = keras.Sequential([\n",
        "          keras.layers.Dense(64, activation='relu'),\n",
        "          keras.layers.Dense(32, activation='relu'),\n",
        "          keras.layers.Dense(10, activation='softmax')\n",
        "      ])\n",
        "    else:\n",
        "      model = keras.Sequential([\n",
        "          keras.layers.Dense(128, activation='relu'),\n",
        "          #keras.layers.Dropout(.6),\n",
        "          keras.layers.Dense(64, activation='relu'),\n",
        "          #keras.layers.Dropout(.6),\n",
        "          keras.layers.Dense(32, activation='relu'),\n",
        "          keras.layers.Dense(10, activation='softmax')\n",
        "      ])\n",
        "  \n",
        "    model.compile(optimizer='adam',\n",
        "                 loss = 'categorical_crossentropy',\n",
        "                 metrics = ['accuracy', self.top2_accuracy])\n",
        "    \n",
        "    x_train, y_train, x_test, y_test = self.data_for_cat(intrusion_only)\n",
        "    \n",
        "    rand_idx = [i for i in random.sample(range(len(x_test)),\n",
        "                                         int(len(x_test) / 10))]\n",
        "    \n",
        "    self.nn_cat_history = model.fit(x_train,\n",
        "                                    y_train,\n",
        "                                    # validation_split=0.1,\n",
        "                                    validation_data=(x_test[rand_idx, :],\n",
        "                                                     y_test[rand_idx, :]),\n",
        "                                    epochs=5)\n",
        "    \n",
        "    test_loss, test_acc, test_acc2 = model.evaluate(x_test, y_test)\n",
        "    print('Test accuracy:', \"top 1\", test_acc, \"top 2\", test_acc2)\n",
        "    \n",
        "    self.nn_cat_model = model\n",
        "    \n",
        "  \"\"\"\n",
        "  Decision trees for label classification\n",
        "  \"\"\"\n",
        "  def decision_trees(self):\n",
        "    x_train, y_train, x_test, y_test = self.data_for_lab()\n",
        "    \n",
        "    model = ExtraTreesClassifier().fit(x_train,y_train.ravel())\n",
        "    print(\"Test accuracy: \", model.score(x_test, y_test.ravel()))\n",
        "    self.forest_model = model\n",
        "  \n",
        "  \"\"\"\n",
        "  Decision trees for category classification\n",
        "  \n",
        "  :param bool intrusion_only: train model on only instruion data\n",
        "  \"\"\"\n",
        "  def decision_trees_cat(self, intrusion_only):\n",
        "    x_train, y_train, x_test, y_test = self.data_for_cat(intrusion_only)\n",
        "    \n",
        "    model = ExtraTreesClassifier().fit(x_train, y_train.ravel())\n",
        "    print(\"Test accuracy: \", model.score(x_test, y_test.ravel()))\n",
        "    \n",
        "    self.forest_cat_model = model\n",
        "  \n",
        "  \"\"\"\n",
        "  Data preparation for label classification\n",
        "  \"\"\"\n",
        "  def data_for_lab(self):\n",
        "    x_train, y_train = self.d.x_train, self.d.y_train_lab\n",
        "    x_test, y_test = self.d.x_test, self.d.y_test_lab\n",
        "    \n",
        "    return x_train, y_train, x_test, y_test\n",
        "  \n",
        "  \"\"\"\n",
        "  Data preparation for category classification\n",
        "  \"\"\"\n",
        "  def data_for_cat(self, intrusion_only):\n",
        "    if intrusion_only:\n",
        "      x_train, y_train = self.d.x_train_i, self.d.y_train_i\n",
        "      x_test, y_test = self.d.x_test_i, self.d.y_test_i\n",
        "    else:\n",
        "      x_train, y_train = self.d.x_train, self.d.y_train_cat\n",
        "      x_test, y_test = self.d.x_test, self.d.y_test_cat\n",
        "    \n",
        "    return x_train, y_train, x_test, y_test\n",
        "\n",
        "  \"\"\"\n",
        "  If the expected target is within the top 3 predications\n",
        "  \"\"\"\n",
        "  def top2_accuracy(self, y_true, y_pred):\n",
        "    return keras.metrics.top_k_categorical_accuracy(y_true, y_pred, k=2)\n",
        "  \n",
        "  \"\"\"\n",
        "  Get the model's confusion matrix using test data\n",
        "  \n",
        "  :param ExtraTreesClassifier/keras.Sequential model: trained model\n",
        "  \"\"\"\n",
        "  def cnf_matrix(self, model):\n",
        "    x_test = self.d.x_test\n",
        "    y_test = self.d.y_test_lab\n",
        "\n",
        "    predictions = model.predict(x_test)\n",
        "    cm = confusion_matrix(y_test, predictions)\n",
        "    return cm\n",
        "\n",
        "ml = MachineLearning(data)"
      ],
      "execution_count": 0,
      "outputs": []
    },
    {
      "metadata": {
        "id": "_1JZLndXJx8N",
        "colab_type": "text"
      },
      "cell_type": "markdown",
      "source": [
        "### Model analysis\n",
        "\n",
        "Visualize and analyze the performance of machine learning models."
      ]
    },
    {
      "metadata": {
        "id": "36Lly3JMiDnB",
        "colab_type": "code",
        "colab": {}
      },
      "cell_type": "code",
      "source": [
        "!apt-get install graphviz > /dev/null\n",
        "!pip -q install graphviz\n",
        "!pip -q install pydot"
      ],
      "execution_count": 0,
      "outputs": []
    },
    {
      "metadata": {
        "id": "NpqL-0xbH0cR",
        "colab_type": "code",
        "colab": {}
      },
      "cell_type": "code",
      "source": [
        "import graphviz\n",
        "import random\n",
        "import itertools\n",
        "import matplotlib.pyplot as plt\n",
        "\n",
        "from sklearn.tree import export_graphviz\n",
        "from keras.utils.vis_utils import model_to_dot\n",
        "from keras.utils import plot_model\n",
        "from IPython.display import SVG\n",
        "\n",
        "class ModelVisualizer:\n",
        "  x_names = data.x_oh_cols\n",
        "  \n",
        "  def neural_network(self, model):\n",
        "    model.summary()\n",
        "    SVG(model_to_dot(model, show_shapes=True).create(prog='dot', format='svg'))\n",
        "  \n",
        "  def neural_network_training(self, history):\n",
        "    # Plot training & validation accuracy values\n",
        "    plt.plot(history.history['acc'], 'b', label='Training acc')\n",
        "    plt.plot(history.history['val_acc'], 'g', label='Validation acc')\n",
        "    plt.title('Traing accuracy')\n",
        "    plt.ylabel('Accuracy')\n",
        "    plt.xlabel('Epoch')\n",
        "    plt.legend()\n",
        "    plt.legend(['Train', 'Test'], loc='upper left')\n",
        "    plt.show()\n",
        "  \n",
        "  def decision_trees_lab(self, forest):\n",
        "    classes = self.get_class_names(True)\n",
        "    self.decision_trees(forest, classes)\n",
        "    \n",
        "  def decision_trees_cat(self, forest, intrusion_only):\n",
        "    classes = self.get_class_names(False)\n",
        "    if intrusion_only:\n",
        "      classes.remove('Normal')\n",
        "    self.decision_trees(forest, classes)\n",
        "  \n",
        "  def decision_trees(self, forest, classes):\n",
        "    self.decision_tree_graph(random.choice(forest.estimators_), classes)\n",
        "    self.decision_trees_feature_importance(forest, classes)\n",
        "    \n",
        "  \n",
        "  def decision_tree_graph(self, dt, classes):\n",
        "    dot_data = export_graphviz(dt, out_file=None,\n",
        "                               max_depth=3,\n",
        "                               feature_names=self.x_names,\n",
        "                               class_names=classes,\n",
        "                               filled=True,\n",
        "                               proportion=True,\n",
        "                               rounded=True)\n",
        "    self.dt_graph = graphviz.Source(dot_data)\n",
        "  \n",
        "  def decision_trees_feature_importance(self, forest, classes):\n",
        "    top_k = 20\n",
        "    \n",
        "    importances = forest.feature_importances_\n",
        "    std = np.std([tree.feature_importances_ for tree in forest.estimators_],\n",
        "                 axis=0)\n",
        "    indices = np.argsort(importances)[::-1]\n",
        "    indices = indices[:top_k]\n",
        "\n",
        "    # print(\"Feature ranking:\")\n",
        "    # for f in range(top_k):\n",
        "    #    print(\"%d. feature %d (%f)\" % (f + 1, indices[f], importances[indices[f]]))\n",
        "\n",
        "    # Plot the feature importances of the forest\n",
        "    plt.figure()\n",
        "    plt.title(\"Feature importances\")\n",
        "    plt.bar(range(top_k), importances[indices],\n",
        "           color=\"r\", yerr=std[indices], align=\"center\")\n",
        "    plt.xticks(range(top_k), indices)\n",
        "    plt.xlim([-1, top_k])\n",
        "    plt.show()\n",
        "  \n",
        "  def cnf_matrix_lab(self, model):\n",
        "    classes = self.get_class_names(True)\n",
        "    \n",
        "    x_test, y_test = data.x_test, data.y_test_lab\n",
        "    \n",
        "    predictions = model.predict(x_test)\n",
        "    cm = confusion_matrix(y_test, predictions)\n",
        "    \n",
        "    self.cnf_matrix(cm, classes)\n",
        "    \n",
        "  def cnf_matrix_cat(self, model, intrusion_only):\n",
        "    classes = self.get_class_names(False)\n",
        "    \n",
        "    if intrusion_only:\n",
        "      x_test, y_test = data.x_test_i, data.y_test_i\n",
        "      classes.remove('Normal')\n",
        "    else:\n",
        "      x_test, y_test = data.x_test_cat, data.y_test.cat\n",
        "    \n",
        "    predictions = model.predict(x_test)\n",
        "    \n",
        "    cm = confusion_matrix(\n",
        "        [np.argmax(y) for y in y_test],\n",
        "        [np.argmax(pred) for pred in predictions]\n",
        "    )\n",
        "    \n",
        "    self.cnf_matrix(cm, classes)\n",
        "  \n",
        "  def cnf_matrix(self, cm, classes):\n",
        "    #print('Confusion matrix:\\n', cm)\n",
        "    plt.rcParams[\"figure.figsize\"] = (8, 6)\n",
        "    plt.grid(False)\n",
        "    plt.imshow(cm, interpolation='nearest', cmap=plt.cm.Blues)\n",
        "    plt.title('Confusion matrix')\n",
        "    plt.colorbar()\n",
        "    tick_marks = np.arange(len(classes))\n",
        "    plt.xticks(tick_marks, classes, rotation=45)\n",
        "    plt.yticks(tick_marks, classes)\n",
        "\n",
        "    thresh = cm.max() / 2.\n",
        "    for i, j in itertools.product(range(cm.shape[0]), range(cm.shape[1])):\n",
        "        plt.text(j, i, format(cm[i, j], 'd'),\n",
        "                 horizontalalignment=\"center\",\n",
        "                 color=\"white\" if cm[i, j] > thresh else \"black\")\n",
        "\n",
        "    plt.ylabel('True label')\n",
        "    plt.xlabel('Predicted label')\n",
        "    plt.tight_layout()\n",
        "  \n",
        "  def predictions_vs_exp(self, model, x_test, y_test):\n",
        "    predictions = model.predict(x_test)\n",
        "    rand_idx = [i for i in random.sample(range(len(predictions)), 20)]\n",
        "    \n",
        "    for i in rand_idx:\n",
        "      print(np.argmax(predictions[i]), np.argmax(y_test[i]))\n",
        "  \n",
        "  def get_class_names(self, label_task):\n",
        "    if label_task:\n",
        "      return ['Normal', 'Intrusion']\n",
        "    else:\n",
        "      return ['Analysis', 'Backdoor', 'DoS', 'Exploits', 'Fuzzers',\n",
        "              'Generic','Normal','Reconnaissance','Shellcode','Worms']\n",
        "  \n",
        "viz = ModelVisualizer()"
      ],
      "execution_count": 0,
      "outputs": []
    },
    {
      "metadata": {
        "id": "_HYDR9lU81c-",
        "colab_type": "text"
      },
      "cell_type": "markdown",
      "source": [
        "### Train and evaluate the model\n",
        "\n",
        "For demo purpose, this section follows the recommended workflow, that is using extra-trees for label classification, then using neural networks for category classficaiton. You can try other combinations with the provided APIs."
      ]
    },
    {
      "metadata": {
        "id": "ZlO9nTEz_X7y",
        "colab_type": "text"
      },
      "cell_type": "markdown",
      "source": [
        "For binary label classification task, the decision trees yield a accuracy of 87%:"
      ]
    },
    {
      "metadata": {
        "id": "D3YJi5hUVH9u",
        "colab_type": "code",
        "colab": {
          "base_uri": "https://localhost:8080/",
          "height": 34
        },
        "outputId": "d910c4d2-6b6e-4fcb-fe8a-f326bc7fd20c"
      },
      "cell_type": "code",
      "source": [
        "ml.decision_trees()"
      ],
      "execution_count": 13,
      "outputs": [
        {
          "output_type": "stream",
          "text": [
            "Test accuracy:  0.8702205703736093\n"
          ],
          "name": "stdout"
        }
      ]
    },
    {
      "metadata": {
        "id": "hMJtm508CEVg",
        "colab_type": "text"
      },
      "cell_type": "markdown",
      "source": [
        "Important features found by decision trees to judge whether a network event is an intrusion or not:"
      ]
    },
    {
      "metadata": {
        "id": "dIMYGdcfKCCM",
        "colab_type": "code",
        "colab": {
          "base_uri": "https://localhost:8080/",
          "height": 362
        },
        "outputId": "8090960f-79d2-426a-bb94-53c5ed271449"
      },
      "cell_type": "code",
      "source": [
        "viz.decision_trees_lab(ml.forest_model)"
      ],
      "execution_count": 16,
      "outputs": [
        {
          "output_type": "display_data",
          "data": {
            "image/png": "[encoded data removed]",
            "text/plain": [
              "<matplotlib.figure.Figure at 0x7f5fe8c73be0>"
            ]
          },
          "metadata": {
            "tags": []
          }
        }
      ]
    },
    {
      "metadata": {
        "id": "54YwzyZOCONP",
        "colab_type": "text"
      },
      "cell_type": "markdown",
      "source": [
        "The visualization of a random one of the decision trees generated by the extra-trees classifier. It shows the exactly how an decision tree judge an intrusion. Extra-tree classifier, however, is an aggregation of such trees and consider all their results to make a final classification decision."
      ]
    },
    {
      "metadata": {
        "id": "Oz0bCDUcDuZt",
        "colab_type": "code",
        "colab": {
          "base_uri": "https://localhost:8080/",
          "height": 714
        },
        "outputId": "9b1e0144-bdc1-4ead-c16d-90db64f0eb59"
      },
      "cell_type": "code",
      "source": [
        "viz.dt_graph"
      ],
      "execution_count": 22,
      "outputs": [
        {
          "output_type": "execute_result",
          "data": {
            "text/plain": [
              "<graphviz.files.Source at 0x7f5fe8cffd68>"
            ],
            "image/svg+xml": "<?xml version=\"1.0\" encoding=\"UTF-8\" standalone=\"no\"?>\n<!DOCTYPE svg PUBLIC \"-//W3C//DTD SVG 1.1//EN\"\n \"http://www.w3.org/Graphics/SVG/1.1/DTD/svg11.dtd\">\n<!-- Generated by graphviz version 2.40.1 (20161225.0304)\n -->\n<!-- Title: Tree Pages: 1 -->\n<svg width=\"673pt\" height=\"520pt\"\n viewBox=\"0.00 0.00 672.50 520.00\" xmlns=\"http://www.w3.org/2000/svg\" xmlns:xlink=\"http://www.w3.org/1999/xlink\">\n<g id=\"graph0\" class=\"graph\" transform=\"scale(1 1) rotate(0) translate(4 516)\">\n<title>Tree</title>\n<polygon fill=\"#ffffff\" stroke=\"transparent\" points=\"-4,4 -4,-516 668.5,-516 668.5,4 -4,4\"/>\n<!-- 0 -->\n<g id=\"node1\" class=\"node\">\n<title>0</title>\n<path fill=\"#399de5\" fill-opacity=\"0.529412\" stroke=\"#000000\" d=\"M475,-512C475,-512 343,-512 343,-512 337,-512 331,-506 331,-500 331,-500 331,-441 331,-441 331,-435 337,-429 343,-429 343,-429 475,-429 475,-429 481,-429 487,-435 487,-441 487,-441 487,-500 487,-500 487,-506 481,-512 475,-512\"/>\n<text text-anchor=\"middle\" x=\"409\" y=\"-496.8\" font-family=\"Helvetica,sans-Serif\" font-size=\"14.00\" fill=\"#000000\">proto_swipe &lt;= 0.38</text>\n<text text-anchor=\"middle\" x=\"409\" y=\"-481.8\" font-family=\"Helvetica,sans-Serif\" font-size=\"14.00\" fill=\"#000000\">gini = 0.435</text>\n<text text-anchor=\"middle\" x=\"409\" y=\"-466.8\" font-family=\"Helvetica,sans-Serif\" font-size=\"14.00\" fill=\"#000000\">samples = 100.0%</text>\n<text text-anchor=\"middle\" x=\"409\" y=\"-451.8\" font-family=\"Helvetica,sans-Serif\" font-size=\"14.00\" fill=\"#000000\">value = [0.319, 0.681]</text>\n<text text-anchor=\"middle\" x=\"409\" y=\"-436.8\" font-family=\"Helvetica,sans-Serif\" font-size=\"14.00\" fill=\"#000000\">class = Intrusion</text>\n</g>\n<!-- 1 -->\n<g id=\"node2\" class=\"node\">\n<title>1</title>\n<path fill=\"#399de5\" fill-opacity=\"0.529412\" stroke=\"#000000\" d=\"M393.5,-393C393.5,-393 274.5,-393 274.5,-393 268.5,-393 262.5,-387 262.5,-381 262.5,-381 262.5,-322 262.5,-322 262.5,-316 268.5,-310 274.5,-310 274.5,-310 393.5,-310 393.5,-310 399.5,-310 405.5,-316 405.5,-322 405.5,-322 405.5,-381 405.5,-381 405.5,-387 399.5,-393 393.5,-393\"/>\n<text text-anchor=\"middle\" x=\"334\" y=\"-377.8\" font-family=\"Helvetica,sans-Serif\" font-size=\"14.00\" fill=\"#000000\">ct_dst_ltm &lt;= 0.082</text>\n<text text-anchor=\"middle\" x=\"334\" y=\"-362.8\" font-family=\"Helvetica,sans-Serif\" font-size=\"14.00\" fill=\"#000000\">gini = 0.435</text>\n<text text-anchor=\"middle\" x=\"334\" y=\"-347.8\" font-family=\"Helvetica,sans-Serif\" font-size=\"14.00\" fill=\"#000000\">samples = 99.9%</text>\n<text text-anchor=\"middle\" x=\"334\" y=\"-332.8\" font-family=\"Helvetica,sans-Serif\" font-size=\"14.00\" fill=\"#000000\">value = [0.32, 0.68]</text>\n<text text-anchor=\"middle\" x=\"334\" y=\"-317.8\" font-family=\"Helvetica,sans-Serif\" font-size=\"14.00\" fill=\"#000000\">class = Intrusion</text>\n</g>\n<!-- 0&#45;&gt;1 -->\n<g id=\"edge1\" class=\"edge\">\n<title>0&#45;&gt;1</title>\n<path fill=\"none\" stroke=\"#000000\" d=\"M382.7686,-428.8796C377.2627,-420.1434 371.3994,-410.8404 365.7176,-401.8253\"/>\n<polygon fill=\"#000000\" stroke=\"#000000\" points=\"368.6363,-399.8919 360.3433,-393.2981 362.7143,-403.6242 368.6363,-399.8919\"/>\n<text text-anchor=\"middle\" x=\"354.8137\" y=\"-413.9789\" font-family=\"Helvetica,sans-Serif\" font-size=\"14.00\" fill=\"#000000\">True</text>\n</g>\n<!-- 36044 -->\n<g id=\"node17\" class=\"node\">\n<title>36044</title>\n<path fill=\"#399de5\" stroke=\"#000000\" d=\"M534.5,-385.5C534.5,-385.5 435.5,-385.5 435.5,-385.5 429.5,-385.5 423.5,-379.5 423.5,-373.5 423.5,-373.5 423.5,-329.5 423.5,-329.5 423.5,-323.5 429.5,-317.5 435.5,-317.5 435.5,-317.5 534.5,-317.5 534.5,-317.5 540.5,-317.5 546.5,-323.5 546.5,-329.5 546.5,-329.5 546.5,-373.5 546.5,-373.5 546.5,-379.5 540.5,-385.5 534.5,-385.5\"/>\n<text text-anchor=\"middle\" x=\"485\" y=\"-370.3\" font-family=\"Helvetica,sans-Serif\" font-size=\"14.00\" fill=\"#000000\">gini = 0.0</text>\n<text text-anchor=\"middle\" x=\"485\" y=\"-355.3\" font-family=\"Helvetica,sans-Serif\" font-size=\"14.00\" fill=\"#000000\">samples = 0.1%</text>\n<text text-anchor=\"middle\" x=\"485\" y=\"-340.3\" font-family=\"Helvetica,sans-Serif\" font-size=\"14.00\" fill=\"#000000\">value = [0.0, 1.0]</text>\n<text text-anchor=\"middle\" x=\"485\" y=\"-325.3\" font-family=\"Helvetica,sans-Serif\" font-size=\"14.00\" fill=\"#000000\">class = Intrusion</text>\n</g>\n<!-- 0&#45;&gt;36044 -->\n<g id=\"edge16\" class=\"edge\">\n<title>0&#45;&gt;36044</title>\n<path fill=\"none\" stroke=\"#000000\" d=\"M435.5811,-428.8796C442.674,-417.7735 450.3521,-405.7513 457.4937,-394.5691\"/>\n<polygon fill=\"#000000\" stroke=\"#000000\" points=\"460.6518,-396.1267 463.0846,-385.8149 454.7523,-392.3589 460.6518,-396.1267\"/>\n<text text-anchor=\"middle\" x=\"468.4681\" y=\"-406.5284\" font-family=\"Helvetica,sans-Serif\" font-size=\"14.00\" fill=\"#000000\">False</text>\n</g>\n<!-- 2 -->\n<g id=\"node3\" class=\"node\">\n<title>2</title>\n<path fill=\"#399de5\" fill-opacity=\"0.352941\" stroke=\"#000000\" d=\"M306,-274C306,-274 174,-274 174,-274 168,-274 162,-268 162,-262 162,-262 162,-203 162,-203 162,-197 168,-191 174,-191 174,-191 306,-191 306,-191 312,-191 318,-197 318,-203 318,-203 318,-262 318,-262 318,-268 312,-274 306,-274\"/>\n<text text-anchor=\"middle\" x=\"240\" y=\"-258.8\" font-family=\"Helvetica,sans-Serif\" font-size=\"14.00\" fill=\"#000000\">sttl &lt;= &#45;0.41</text>\n<text text-anchor=\"middle\" x=\"240\" y=\"-243.8\" font-family=\"Helvetica,sans-Serif\" font-size=\"14.00\" fill=\"#000000\">gini = 0.477</text>\n<text text-anchor=\"middle\" x=\"240\" y=\"-228.8\" font-family=\"Helvetica,sans-Serif\" font-size=\"14.00\" fill=\"#000000\">samples = 78.9%</text>\n<text text-anchor=\"middle\" x=\"240\" y=\"-213.8\" font-family=\"Helvetica,sans-Serif\" font-size=\"14.00\" fill=\"#000000\">value = [0.393, 0.607]</text>\n<text text-anchor=\"middle\" x=\"240\" y=\"-198.8\" font-family=\"Helvetica,sans-Serif\" font-size=\"14.00\" fill=\"#000000\">class = Intrusion</text>\n</g>\n<!-- 1&#45;&gt;2 -->\n<g id=\"edge2\" class=\"edge\">\n<title>1&#45;&gt;2</title>\n<path fill=\"none\" stroke=\"#000000\" d=\"M301.1234,-309.8796C294.0803,-300.9633 286.5707,-291.4565 279.3126,-282.268\"/>\n<polygon fill=\"#000000\" stroke=\"#000000\" points=\"281.9621,-279.9757 273.017,-274.2981 276.4691,-284.3147 281.9621,-279.9757\"/>\n</g>\n<!-- 35187 -->\n<g id=\"node10\" class=\"node\">\n<title>35187</title>\n<path fill=\"#399de5\" fill-opacity=\"0.956863\" stroke=\"#000000\" d=\"M509.5,-274C509.5,-274 348.5,-274 348.5,-274 342.5,-274 336.5,-268 336.5,-262 336.5,-262 336.5,-203 336.5,-203 336.5,-197 342.5,-191 348.5,-191 348.5,-191 509.5,-191 509.5,-191 515.5,-191 521.5,-197 521.5,-203 521.5,-203 521.5,-262 521.5,-262 521.5,-268 515.5,-274 509.5,-274\"/>\n<text text-anchor=\"middle\" x=\"429\" y=\"-258.8\" font-family=\"Helvetica,sans-Serif\" font-size=\"14.00\" fill=\"#000000\">ct_src_dport_ltm &lt;= 0.073</text>\n<text text-anchor=\"middle\" x=\"429\" y=\"-243.8\" font-family=\"Helvetica,sans-Serif\" font-size=\"14.00\" fill=\"#000000\">gini = 0.081</text>\n<text text-anchor=\"middle\" x=\"429\" y=\"-228.8\" font-family=\"Helvetica,sans-Serif\" font-size=\"14.00\" fill=\"#000000\">samples = 21.0%</text>\n<text text-anchor=\"middle\" x=\"429\" y=\"-213.8\" font-family=\"Helvetica,sans-Serif\" font-size=\"14.00\" fill=\"#000000\">value = [0.042, 0.958]</text>\n<text text-anchor=\"middle\" x=\"429\" y=\"-198.8\" font-family=\"Helvetica,sans-Serif\" font-size=\"14.00\" fill=\"#000000\">class = Intrusion</text>\n</g>\n<!-- 1&#45;&gt;35187 -->\n<g id=\"edge9\" class=\"edge\">\n<title>1&#45;&gt;35187</title>\n<path fill=\"none\" stroke=\"#000000\" d=\"M367.2264,-309.8796C374.3444,-300.9633 381.9339,-291.4565 389.2692,-282.268\"/>\n<polygon fill=\"#000000\" stroke=\"#000000\" points=\"392.1281,-284.2968 395.6318,-274.2981 386.6575,-279.9295 392.1281,-284.2968\"/>\n</g>\n<!-- 3 -->\n<g id=\"node4\" class=\"node\">\n<title>3</title>\n<path fill=\"#e58139\" fill-opacity=\"0.647059\" stroke=\"#000000\" d=\"M136,-155C136,-155 12,-155 12,-155 6,-155 0,-149 0,-143 0,-143 0,-84 0,-84 0,-78 6,-72 12,-72 12,-72 136,-72 136,-72 142,-72 148,-78 148,-84 148,-84 148,-143 148,-143 148,-149 142,-155 136,-155\"/>\n<text text-anchor=\"middle\" x=\"74\" y=\"-139.8\" font-family=\"Helvetica,sans-Serif\" font-size=\"14.00\" fill=\"#000000\">service_ftp &lt;= 0.203</text>\n<text text-anchor=\"middle\" x=\"74\" y=\"-124.8\" font-family=\"Helvetica,sans-Serif\" font-size=\"14.00\" fill=\"#000000\">gini = 0.385</text>\n<text text-anchor=\"middle\" x=\"74\" y=\"-109.8\" font-family=\"Helvetica,sans-Serif\" font-size=\"14.00\" fill=\"#000000\">samples = 33.8%</text>\n<text text-anchor=\"middle\" x=\"74\" y=\"-94.8\" font-family=\"Helvetica,sans-Serif\" font-size=\"14.00\" fill=\"#000000\">value = [0.74, 0.26]</text>\n<text text-anchor=\"middle\" x=\"74\" y=\"-79.8\" font-family=\"Helvetica,sans-Serif\" font-size=\"14.00\" fill=\"#000000\">class = Normal</text>\n</g>\n<!-- 2&#45;&gt;3 -->\n<g id=\"edge3\" class=\"edge\">\n<title>2&#45;&gt;3</title>\n<path fill=\"none\" stroke=\"#000000\" d=\"M181.9413,-190.8796C168.5466,-181.2774 154.1965,-170.9903 140.4745,-161.1534\"/>\n<polygon fill=\"#000000\" stroke=\"#000000\" points=\"142.1926,-158.0786 132.026,-155.0969 138.1142,-163.7678 142.1926,-158.0786\"/>\n</g>\n<!-- 3592 -->\n<g id=\"node7\" class=\"node\">\n<title>3592</title>\n<path fill=\"#399de5\" fill-opacity=\"0.843137\" stroke=\"#000000\" d=\"M310,-155C310,-155 178,-155 178,-155 172,-155 166,-149 166,-143 166,-143 166,-84 166,-84 166,-78 172,-72 178,-72 178,-72 310,-72 310,-72 316,-72 322,-78 322,-84 322,-84 322,-143 322,-143 322,-149 316,-155 310,-155\"/>\n<text text-anchor=\"middle\" x=\"244\" y=\"-139.8\" font-family=\"Helvetica,sans-Serif\" font-size=\"14.00\" fill=\"#000000\">service_dns &lt;= 0.235</text>\n<text text-anchor=\"middle\" x=\"244\" y=\"-124.8\" font-family=\"Helvetica,sans-Serif\" font-size=\"14.00\" fill=\"#000000\">gini = 0.232</text>\n<text text-anchor=\"middle\" x=\"244\" y=\"-109.8\" font-family=\"Helvetica,sans-Serif\" font-size=\"14.00\" fill=\"#000000\">samples = 45.1%</text>\n<text text-anchor=\"middle\" x=\"244\" y=\"-94.8\" font-family=\"Helvetica,sans-Serif\" font-size=\"14.00\" fill=\"#000000\">value = [0.134, 0.866]</text>\n<text text-anchor=\"middle\" x=\"244\" y=\"-79.8\" font-family=\"Helvetica,sans-Serif\" font-size=\"14.00\" fill=\"#000000\">class = Intrusion</text>\n</g>\n<!-- 2&#45;&gt;3592 -->\n<g id=\"edge6\" class=\"edge\">\n<title>2&#45;&gt;3592</title>\n<path fill=\"none\" stroke=\"#000000\" d=\"M241.399,-190.8796C241.6745,-182.6838 241.9668,-173.9891 242.2521,-165.5013\"/>\n<polygon fill=\"#000000\" stroke=\"#000000\" points=\"245.757,-165.41 242.595,-155.2981 238.761,-165.1748 245.757,-165.41\"/>\n</g>\n<!-- 4 -->\n<g id=\"node5\" class=\"node\">\n<title>4</title>\n<path fill=\"#c0c0c0\" stroke=\"#000000\" d=\"M53,-36C53,-36 23,-36 23,-36 17,-36 11,-30 11,-24 11,-24 11,-12 11,-12 11,-6 17,0 23,0 23,0 53,0 53,0 59,0 65,-6 65,-12 65,-12 65,-24 65,-24 65,-30 59,-36 53,-36\"/>\n<text text-anchor=\"middle\" x=\"38\" y=\"-14.3\" font-family=\"Helvetica,sans-Serif\" font-size=\"14.00\" fill=\"#000000\">(...)</text>\n</g>\n<!-- 3&#45;&gt;4 -->\n<g id=\"edge4\" class=\"edge\">\n<title>3&#45;&gt;4</title>\n<path fill=\"none\" stroke=\"#000000\" d=\"M58.3146,-71.8901C54.9739,-63.0279 51.525,-53.8788 48.4386,-45.6913\"/>\n<polygon fill=\"#000000\" stroke=\"#000000\" points=\"51.6877,-44.3878 44.8853,-36.2651 45.1376,-46.8569 51.6877,-44.3878\"/>\n</g>\n<!-- 3517 -->\n<g id=\"node6\" class=\"node\">\n<title>3517</title>\n<path fill=\"#c0c0c0\" stroke=\"#000000\" d=\"M125,-36C125,-36 95,-36 95,-36 89,-36 83,-30 83,-24 83,-24 83,-12 83,-12 83,-6 89,0 95,0 95,0 125,0 125,0 131,0 137,-6 137,-12 137,-12 137,-24 137,-24 137,-30 131,-36 125,-36\"/>\n<text text-anchor=\"middle\" x=\"110\" y=\"-14.3\" font-family=\"Helvetica,sans-Serif\" font-size=\"14.00\" fill=\"#000000\">(...)</text>\n</g>\n<!-- 3&#45;&gt;3517 -->\n<g id=\"edge5\" class=\"edge\">\n<title>3&#45;&gt;3517</title>\n<path fill=\"none\" stroke=\"#000000\" d=\"M89.6854,-71.8901C93.0261,-63.0279 96.475,-53.8788 99.5614,-45.6913\"/>\n<polygon fill=\"#000000\" stroke=\"#000000\" points=\"102.8624,-46.8569 103.1147,-36.2651 96.3123,-44.3878 102.8624,-46.8569\"/>\n</g>\n<!-- 3593 -->\n<g id=\"node8\" class=\"node\">\n<title>3593</title>\n<path fill=\"#c0c0c0\" stroke=\"#000000\" d=\"M237,-36C237,-36 207,-36 207,-36 201,-36 195,-30 195,-24 195,-24 195,-12 195,-12 195,-6 201,0 207,0 207,0 237,0 237,0 243,0 249,-6 249,-12 249,-12 249,-24 249,-24 249,-30 243,-36 237,-36\"/>\n<text text-anchor=\"middle\" x=\"222\" y=\"-14.3\" font-family=\"Helvetica,sans-Serif\" font-size=\"14.00\" fill=\"#000000\">(...)</text>\n</g>\n<!-- 3592&#45;&gt;3593 -->\n<g id=\"edge7\" class=\"edge\">\n<title>3592&#45;&gt;3593</title>\n<path fill=\"none\" stroke=\"#000000\" d=\"M234.4145,-71.8901C232.4178,-63.2227 230.3579,-54.2808 228.5038,-46.2325\"/>\n<polygon fill=\"#000000\" stroke=\"#000000\" points=\"231.8633,-45.2241 226.2077,-36.2651 225.0419,-46.7956 231.8633,-45.2241\"/>\n</g>\n<!-- 35186 -->\n<g id=\"node9\" class=\"node\">\n<title>35186</title>\n<path fill=\"#c0c0c0\" stroke=\"#000000\" d=\"M309,-36C309,-36 279,-36 279,-36 273,-36 267,-30 267,-24 267,-24 267,-12 267,-12 267,-6 273,0 279,0 279,0 309,0 309,0 315,0 321,-6 321,-12 321,-12 321,-24 321,-24 321,-30 315,-36 309,-36\"/>\n<text text-anchor=\"middle\" x=\"294\" y=\"-14.3\" font-family=\"Helvetica,sans-Serif\" font-size=\"14.00\" fill=\"#000000\">(...)</text>\n</g>\n<!-- 3592&#45;&gt;35186 -->\n<g id=\"edge8\" class=\"edge\">\n<title>3592&#45;&gt;35186</title>\n<path fill=\"none\" stroke=\"#000000\" d=\"M265.7853,-71.8901C270.5272,-62.8331 275.4259,-53.4765 279.7839,-45.1528\"/>\n<polygon fill=\"#000000\" stroke=\"#000000\" points=\"282.8995,-46.7478 284.4371,-36.2651 276.698,-43.5009 282.8995,-46.7478\"/>\n</g>\n<!-- 35188 -->\n<g id=\"node11\" class=\"node\">\n<title>35188</title>\n<path fill=\"#399de5\" fill-opacity=\"0.239216\" stroke=\"#000000\" d=\"M491,-155C491,-155 359,-155 359,-155 353,-155 347,-149 347,-143 347,-143 347,-84 347,-84 347,-78 353,-72 359,-72 359,-72 491,-72 491,-72 497,-72 503,-78 503,-84 503,-84 503,-143 503,-143 503,-149 497,-155 491,-155\"/>\n<text text-anchor=\"middle\" x=\"425\" y=\"-139.8\" font-family=\"Helvetica,sans-Serif\" font-size=\"14.00\" fill=\"#000000\">state_INT &lt;= 0.432</text>\n<text text-anchor=\"middle\" x=\"425\" y=\"-124.8\" font-family=\"Helvetica,sans-Serif\" font-size=\"14.00\" fill=\"#000000\">gini = 0.491</text>\n<text text-anchor=\"middle\" x=\"425\" y=\"-109.8\" font-family=\"Helvetica,sans-Serif\" font-size=\"14.00\" fill=\"#000000\">samples = 1.1%</text>\n<text text-anchor=\"middle\" x=\"425\" y=\"-94.8\" font-family=\"Helvetica,sans-Serif\" font-size=\"14.00\" fill=\"#000000\">value = [0.433, 0.567]</text>\n<text text-anchor=\"middle\" x=\"425\" y=\"-79.8\" font-family=\"Helvetica,sans-Serif\" font-size=\"14.00\" fill=\"#000000\">class = Intrusion</text>\n</g>\n<!-- 35187&#45;&gt;35188 -->\n<g id=\"edge10\" class=\"edge\">\n<title>35187&#45;&gt;35188</title>\n<path fill=\"none\" stroke=\"#000000\" d=\"M427.601,-190.8796C427.3255,-182.6838 427.0332,-173.9891 426.7479,-165.5013\"/>\n<polygon fill=\"#000000\" stroke=\"#000000\" points=\"430.239,-165.1748 426.405,-155.2981 423.243,-165.41 430.239,-165.1748\"/>\n</g>\n<!-- 35477 -->\n<g id=\"node14\" class=\"node\">\n<title>35477</title>\n<path fill=\"#399de5\" fill-opacity=\"0.980392\" stroke=\"#000000\" d=\"M652.5,-155C652.5,-155 533.5,-155 533.5,-155 527.5,-155 521.5,-149 521.5,-143 521.5,-143 521.5,-84 521.5,-84 521.5,-78 527.5,-72 533.5,-72 533.5,-72 652.5,-72 652.5,-72 658.5,-72 664.5,-78 664.5,-84 664.5,-84 664.5,-143 664.5,-143 664.5,-149 658.5,-155 652.5,-155\"/>\n<text text-anchor=\"middle\" x=\"593\" y=\"-139.8\" font-family=\"Helvetica,sans-Serif\" font-size=\"14.00\" fill=\"#000000\">ct_state_ttl &lt;= &#45;0.06</text>\n<text text-anchor=\"middle\" x=\"593\" y=\"-124.8\" font-family=\"Helvetica,sans-Serif\" font-size=\"14.00\" fill=\"#000000\">gini = 0.04</text>\n<text text-anchor=\"middle\" x=\"593\" y=\"-109.8\" font-family=\"Helvetica,sans-Serif\" font-size=\"14.00\" fill=\"#000000\">samples = 19.8%</text>\n<text text-anchor=\"middle\" x=\"593\" y=\"-94.8\" font-family=\"Helvetica,sans-Serif\" font-size=\"14.00\" fill=\"#000000\">value = [0.02, 0.98]</text>\n<text text-anchor=\"middle\" x=\"593\" y=\"-79.8\" font-family=\"Helvetica,sans-Serif\" font-size=\"14.00\" fill=\"#000000\">class = Intrusion</text>\n</g>\n<!-- 35187&#45;&gt;35477 -->\n<g id=\"edge13\" class=\"edge\">\n<title>35187&#45;&gt;35477</title>\n<path fill=\"none\" stroke=\"#000000\" d=\"M486.3592,-190.8796C499.5925,-181.2774 513.7697,-170.9903 527.3264,-161.1534\"/>\n<polygon fill=\"#000000\" stroke=\"#000000\" points=\"529.6349,-163.8027 535.6731,-155.0969 525.5238,-158.1371 529.6349,-163.8027\"/>\n</g>\n<!-- 35189 -->\n<g id=\"node12\" class=\"node\">\n<title>35189</title>\n<path fill=\"#c0c0c0\" stroke=\"#000000\" d=\"M403,-36C403,-36 373,-36 373,-36 367,-36 361,-30 361,-24 361,-24 361,-12 361,-12 361,-6 367,0 373,0 373,0 403,0 403,0 409,0 415,-6 415,-12 415,-12 415,-24 415,-24 415,-30 409,-36 403,-36\"/>\n<text text-anchor=\"middle\" x=\"388\" y=\"-14.3\" font-family=\"Helvetica,sans-Serif\" font-size=\"14.00\" fill=\"#000000\">(...)</text>\n</g>\n<!-- 35188&#45;&gt;35189 -->\n<g id=\"edge11\" class=\"edge\">\n<title>35188&#45;&gt;35189</title>\n<path fill=\"none\" stroke=\"#000000\" d=\"M408.8789,-71.8901C405.4454,-63.0279 401.9007,-53.8788 398.7285,-45.6913\"/>\n<polygon fill=\"#000000\" stroke=\"#000000\" points=\"401.9529,-44.3253 395.0765,-36.2651 395.4257,-46.8542 401.9529,-44.3253\"/>\n</g>\n<!-- 35444 -->\n<g id=\"node13\" class=\"node\">\n<title>35444</title>\n<path fill=\"#c0c0c0\" stroke=\"#000000\" d=\"M475,-36C475,-36 445,-36 445,-36 439,-36 433,-30 433,-24 433,-24 433,-12 433,-12 433,-6 439,0 445,0 445,0 475,0 475,0 481,0 487,-6 487,-12 487,-12 487,-24 487,-24 487,-30 481,-36 475,-36\"/>\n<text text-anchor=\"middle\" x=\"460\" y=\"-14.3\" font-family=\"Helvetica,sans-Serif\" font-size=\"14.00\" fill=\"#000000\">(...)</text>\n</g>\n<!-- 35188&#45;&gt;35444 -->\n<g id=\"edge12\" class=\"edge\">\n<title>35188&#45;&gt;35444</title>\n<path fill=\"none\" stroke=\"#000000\" d=\"M440.2497,-71.8901C443.4976,-63.0279 446.8507,-53.8788 449.8514,-45.6913\"/>\n<polygon fill=\"#000000\" stroke=\"#000000\" points=\"453.1511,-46.8588 453.306,-36.2651 446.5786,-44.45 453.1511,-46.8588\"/>\n</g>\n<!-- 35478 -->\n<g id=\"node15\" class=\"node\">\n<title>35478</title>\n<path fill=\"#c0c0c0\" stroke=\"#000000\" d=\"M558,-36C558,-36 528,-36 528,-36 522,-36 516,-30 516,-24 516,-24 516,-12 516,-12 516,-6 522,0 528,0 528,0 558,0 558,0 564,0 570,-6 570,-12 570,-12 570,-24 570,-24 570,-30 564,-36 558,-36\"/>\n<text text-anchor=\"middle\" x=\"543\" y=\"-14.3\" font-family=\"Helvetica,sans-Serif\" font-size=\"14.00\" fill=\"#000000\">(...)</text>\n</g>\n<!-- 35477&#45;&gt;35478 -->\n<g id=\"edge14\" class=\"edge\">\n<title>35477&#45;&gt;35478</title>\n<path fill=\"none\" stroke=\"#000000\" d=\"M571.2147,-71.8901C566.4728,-62.8331 561.5741,-53.4765 557.2161,-45.1528\"/>\n<polygon fill=\"#000000\" stroke=\"#000000\" points=\"560.302,-43.5009 552.5629,-36.2651 554.1005,-46.7478 560.302,-43.5009\"/>\n</g>\n<!-- 35479 -->\n<g id=\"node16\" class=\"node\">\n<title>35479</title>\n<path fill=\"#c0c0c0\" stroke=\"#000000\" d=\"M630,-36C630,-36 600,-36 600,-36 594,-36 588,-30 588,-24 588,-24 588,-12 588,-12 588,-6 594,0 600,0 600,0 630,0 630,0 636,0 642,-6 642,-12 642,-12 642,-24 642,-24 642,-30 636,-36 630,-36\"/>\n<text text-anchor=\"middle\" x=\"615\" y=\"-14.3\" font-family=\"Helvetica,sans-Serif\" font-size=\"14.00\" fill=\"#000000\">(...)</text>\n</g>\n<!-- 35477&#45;&gt;35479 -->\n<g id=\"edge15\" class=\"edge\">\n<title>35477&#45;&gt;35479</title>\n<path fill=\"none\" stroke=\"#000000\" d=\"M602.5855,-71.8901C604.5822,-63.2227 606.6421,-54.2808 608.4962,-46.2325\"/>\n<polygon fill=\"#000000\" stroke=\"#000000\" points=\"611.9581,-46.7956 610.7923,-36.2651 605.1367,-45.2241 611.9581,-46.7956\"/>\n</g>\n</g>\n</svg>\n"
          },
          "metadata": {
            "tags": []
          },
          "execution_count": 22
        }
      ]
    },
    {
      "metadata": {
        "id": "uaSMTAMMKkCE",
        "colab_type": "text"
      },
      "cell_type": "markdown",
      "source": [
        "For binary classification, even random guessing can reach 50%+ accuracy. Therefore, a confusion matrix is essential to help us evaluate how model quality. For example, the following diagram is the confusion matrix of the trained extra-tress model."
      ]
    },
    {
      "metadata": {
        "id": "8a5OvxBlAxUA",
        "colab_type": "code",
        "colab": {
          "base_uri": "https://localhost:8080/",
          "height": 437
        },
        "outputId": "978e68b0-7a5a-4466-a6a1-714d4ebdba34"
      },
      "cell_type": "code",
      "source": [
        "viz.cnf_matrix_lab(ml.forest_model)"
      ],
      "execution_count": 23,
      "outputs": [
        {
          "output_type": "display_data",
          "data": {
            "image/png": "[encoded data removed]",
            "text/plain": [
              "<matplotlib.figure.Figure at 0x7f5fe8d09b70>"
            ]
          },
          "metadata": {
            "tags": []
          }
        }
      ]
    },
    {
      "metadata": {
        "id": "_di8_c8YsQyO",
        "colab_type": "text"
      },
      "cell_type": "markdown",
      "source": [
        "It shows for intrusion detection, the **TP** (true positive) 43953, **FP** (false positive) is 9306, **FN** (false negative) is 1379, and **TN** (true negtive) is 27694. From there, we get  **Precision** = TP/(TP+FP) = 0.75, meaning out of all the classes, how much we predicted correctly; **Recall** = TP/(TP+FN) = 0.95, meaning out of all the positive classes, how much we predicted correctly; and the **F1-score** = 2 x Recall x Precision / (Recall + Precision), which is a metrics used to compare two different models.\n",
        "\n",
        "| Class | Precision | Recall | F1-score |\n",
        "| --- | --- | --- | --- |\n",
        "| Normal | 0.75 | 0.95 | 0.83 |\n",
        "| Intrusion | 0.83 | 0.97 | 0.89 |"
      ]
    },
    {
      "metadata": {
        "id": "Uy70bbadTMFF",
        "colab_type": "text"
      },
      "cell_type": "markdown",
      "source": [
        "For category classification, a feedforward neural network with four fully-connected layers is built to train intrusion records only.\n",
        "\n",
        "The top2_accuracy is intoduced to evalute the model in addition to accuracy because once an intrusion has been correctly identified, categorizing it is not as crucial and a little less precision can be tolerated. Here, category classification serves as an auxilliary tool to analyze intrusion quicker. It is reasonable to say if a model can predict the top 2 possible attack types most of the time, then it is useful.\n",
        "\n",
        "As we can see, the top2_accuracy (0.90) is much higher than accuracy (0.78). In real-world use case, both top 2 predictions can give valuable suggestions."
      ]
    },
    {
      "metadata": {
        "id": "kcRoqfHvm8wP",
        "colab_type": "code",
        "colab": {
          "base_uri": "https://localhost:8080/",
          "height": 258
        },
        "outputId": "89072804-6c1c-4c19-ee45-33bb9e9618c6"
      },
      "cell_type": "code",
      "source": [
        "ml.neural_network_cat(True)"
      ],
      "execution_count": 28,
      "outputs": [
        {
          "output_type": "stream",
          "text": [
            "Train on 119341 samples, validate on 4533 samples\n",
            "Epoch 1/5\n",
            "119341/119341 [==============================] - 7s 61us/step - loss: 0.6976 - acc: 0.7474 - top2_accuracy: 0.8971 - val_loss: 0.6351 - val_acc: 0.7741 - val_top2_accuracy: 0.8882\n",
            "Epoch 2/5\n",
            "119341/119341 [==============================] - 7s 55us/step - loss: 0.6249 - acc: 0.7687 - top2_accuracy: 0.9115 - val_loss: 0.6066 - val_acc: 0.7827 - val_top2_accuracy: 0.8983\n",
            "Epoch 3/5\n",
            "119341/119341 [==============================] - 7s 56us/step - loss: 0.6022 - acc: 0.7757 - top2_accuracy: 0.9147 - val_loss: 0.5954 - val_acc: 0.7913 - val_top2_accuracy: 0.8998\n",
            "Epoch 4/5\n",
            "119341/119341 [==============================] - 7s 57us/step - loss: 0.5864 - acc: 0.7815 - top2_accuracy: 0.9174 - val_loss: 0.6163 - val_acc: 0.7834 - val_top2_accuracy: 0.8970\n",
            "Epoch 5/5\n",
            "119341/119341 [==============================] - 7s 57us/step - loss: 0.5757 - acc: 0.7849 - top2_accuracy: 0.9188 - val_loss: 0.6001 - val_acc: 0.7805 - val_top2_accuracy: 0.8998\n",
            "45332/45332 [==============================] - 1s 26us/step\n",
            "Test accuracy: top 1 0.7792067413852651 top 2 0.9013500397017908\n"
          ],
          "name": "stdout"
        }
      ]
    },
    {
      "metadata": {
        "id": "lhbLHuCqUJGa",
        "colab_type": "text"
      },
      "cell_type": "markdown",
      "source": [
        "To see the architecture of the neural network model:"
      ]
    },
    {
      "metadata": {
        "id": "kC3CDJObEPrT",
        "colab_type": "code",
        "colab": {
          "base_uri": "https://localhost:8080/",
          "height": 272
        },
        "outputId": "d6e8ffe9-a71b-4f53-b1da-d782408a0145"
      },
      "cell_type": "code",
      "source": [
        "ml.nn_cat_model.summary()"
      ],
      "execution_count": 29,
      "outputs": [
        {
          "output_type": "stream",
          "text": [
            "_________________________________________________________________\n",
            "Layer (type)                 Output Shape              Param #   \n",
            "=================================================================\n",
            "dense_8 (Dense)              multiple                  25216     \n",
            "_________________________________________________________________\n",
            "dense_9 (Dense)              multiple                  8256      \n",
            "_________________________________________________________________\n",
            "dense_10 (Dense)             multiple                  2080      \n",
            "_________________________________________________________________\n",
            "dense_11 (Dense)             multiple                  330       \n",
            "=================================================================\n",
            "Total params: 35,882\n",
            "Trainable params: 35,882\n",
            "Non-trainable params: 0\n",
            "_________________________________________________________________\n"
          ],
          "name": "stdout"
        }
      ]
    },
    {
      "metadata": {
        "id": "hG_J8VByEKHR",
        "colab_type": "code",
        "colab": {
          "base_uri": "https://localhost:8080/",
          "height": 114
        },
        "outputId": "ec3cb776-3174-4c44-a7ca-1841c1d4d3ef"
      },
      "cell_type": "code",
      "source": [
        "SVG(model_to_dot(ml.nn_cat_model, show_shapes=True).create(prog='dot', format='svg'))"
      ],
      "execution_count": 30,
      "outputs": [
        {
          "output_type": "execute_result",
          "data": {
            "text/plain": [
              "<IPython.core.display.SVG object>"
            ],
            "image/svg+xml": "<svg height=\"55pt\" viewBox=\"0.00 0.00 992.00 55.00\" width=\"992pt\" xmlns=\"http://www.w3.org/2000/svg\" xmlns:xlink=\"http://www.w3.org/1999/xlink\">\n<g class=\"graph\" id=\"graph0\" transform=\"scale(1 1) rotate(0) translate(4 51)\">\n<title>G</title>\n<polygon fill=\"#ffffff\" points=\"-4,4 -4,-51 988,-51 988,4 -4,4\" stroke=\"transparent\"/>\n<!-- 140049789439728 -->\n<g class=\"node\" id=\"node1\">\n<title>140049789439728</title>\n<polygon fill=\"none\" points=\"0,-.5 0,-46.5 229,-46.5 229,-.5 0,-.5\" stroke=\"#000000\"/>\n<text fill=\"#000000\" font-family=\"Times,serif\" font-size=\"14.00\" text-anchor=\"middle\" x=\"53.5\" y=\"-19.8\">dense_8: Dense</text>\n<polyline fill=\"none\" points=\"107,-.5 107,-46.5 \" stroke=\"#000000\"/>\n<text fill=\"#000000\" font-family=\"Times,serif\" font-size=\"14.00\" text-anchor=\"middle\" x=\"136\" y=\"-31.3\">input:</text>\n<polyline fill=\"none\" points=\"107,-23.5 165,-23.5 \" stroke=\"#000000\"/>\n<text fill=\"#000000\" font-family=\"Times,serif\" font-size=\"14.00\" text-anchor=\"middle\" x=\"136\" y=\"-8.3\">output:</text>\n<polyline fill=\"none\" points=\"165,-.5 165,-46.5 \" stroke=\"#000000\"/>\n<text fill=\"#000000\" font-family=\"Times,serif\" font-size=\"14.00\" text-anchor=\"middle\" x=\"197\" y=\"-31.3\">multiple</text>\n<polyline fill=\"none\" points=\"165,-23.5 229,-23.5 \" stroke=\"#000000\"/>\n<text fill=\"#000000\" font-family=\"Times,serif\" font-size=\"14.00\" text-anchor=\"middle\" x=\"197\" y=\"-8.3\">multiple</text>\n</g>\n<!-- 140049789436648 -->\n<g class=\"node\" id=\"node2\">\n<title>140049789436648</title>\n<polygon fill=\"none\" points=\"247,-.5 247,-46.5 476,-46.5 476,-.5 247,-.5\" stroke=\"#000000\"/>\n<text fill=\"#000000\" font-family=\"Times,serif\" font-size=\"14.00\" text-anchor=\"middle\" x=\"300.5\" y=\"-19.8\">dense_9: Dense</text>\n<polyline fill=\"none\" points=\"354,-.5 354,-46.5 \" stroke=\"#000000\"/>\n<text fill=\"#000000\" font-family=\"Times,serif\" font-size=\"14.00\" text-anchor=\"middle\" x=\"383\" y=\"-31.3\">input:</text>\n<polyline fill=\"none\" points=\"354,-23.5 412,-23.5 \" stroke=\"#000000\"/>\n<text fill=\"#000000\" font-family=\"Times,serif\" font-size=\"14.00\" text-anchor=\"middle\" x=\"383\" y=\"-8.3\">output:</text>\n<polyline fill=\"none\" points=\"412,-.5 412,-46.5 \" stroke=\"#000000\"/>\n<text fill=\"#000000\" font-family=\"Times,serif\" font-size=\"14.00\" text-anchor=\"middle\" x=\"444\" y=\"-31.3\">multiple</text>\n<polyline fill=\"none\" points=\"412,-23.5 476,-23.5 \" stroke=\"#000000\"/>\n<text fill=\"#000000\" font-family=\"Times,serif\" font-size=\"14.00\" text-anchor=\"middle\" x=\"444\" y=\"-8.3\">multiple</text>\n</g>\n<!-- 140049789329080 -->\n<g class=\"node\" id=\"node3\">\n<title>140049789329080</title>\n<polygon fill=\"none\" points=\"494.5,-.5 494.5,-46.5 730.5,-46.5 730.5,-.5 494.5,-.5\" stroke=\"#000000\"/>\n<text fill=\"#000000\" font-family=\"Times,serif\" font-size=\"14.00\" text-anchor=\"middle\" x=\"551.5\" y=\"-19.8\">dense_10: Dense</text>\n<polyline fill=\"none\" points=\"608.5,-.5 608.5,-46.5 \" stroke=\"#000000\"/>\n<text fill=\"#000000\" font-family=\"Times,serif\" font-size=\"14.00\" text-anchor=\"middle\" x=\"637.5\" y=\"-31.3\">input:</text>\n<polyline fill=\"none\" points=\"608.5,-23.5 666.5,-23.5 \" stroke=\"#000000\"/>\n<text fill=\"#000000\" font-family=\"Times,serif\" font-size=\"14.00\" text-anchor=\"middle\" x=\"637.5\" y=\"-8.3\">output:</text>\n<polyline fill=\"none\" points=\"666.5,-.5 666.5,-46.5 \" stroke=\"#000000\"/>\n<text fill=\"#000000\" font-family=\"Times,serif\" font-size=\"14.00\" text-anchor=\"middle\" x=\"698.5\" y=\"-31.3\">multiple</text>\n<polyline fill=\"none\" points=\"666.5,-23.5 730.5,-23.5 \" stroke=\"#000000\"/>\n<text fill=\"#000000\" font-family=\"Times,serif\" font-size=\"14.00\" text-anchor=\"middle\" x=\"698.5\" y=\"-8.3\">multiple</text>\n</g>\n<!-- 140049789493432 -->\n<g class=\"node\" id=\"node4\">\n<title>140049789493432</title>\n<polygon fill=\"none\" points=\"749,-.5 749,-46.5 984,-46.5 984,-.5 749,-.5\" stroke=\"#000000\"/>\n<text fill=\"#000000\" font-family=\"Times,serif\" font-size=\"14.00\" text-anchor=\"middle\" x=\"805.5\" y=\"-19.8\">dense_11: Dense</text>\n<polyline fill=\"none\" points=\"862,-.5 862,-46.5 \" stroke=\"#000000\"/>\n<text fill=\"#000000\" font-family=\"Times,serif\" font-size=\"14.00\" text-anchor=\"middle\" x=\"891\" y=\"-31.3\">input:</text>\n<polyline fill=\"none\" points=\"862,-23.5 920,-23.5 \" stroke=\"#000000\"/>\n<text fill=\"#000000\" font-family=\"Times,serif\" font-size=\"14.00\" text-anchor=\"middle\" x=\"891\" y=\"-8.3\">output:</text>\n<polyline fill=\"none\" points=\"920,-.5 920,-46.5 \" stroke=\"#000000\"/>\n<text fill=\"#000000\" font-family=\"Times,serif\" font-size=\"14.00\" text-anchor=\"middle\" x=\"952\" y=\"-31.3\">multiple</text>\n<polyline fill=\"none\" points=\"920,-23.5 984,-23.5 \" stroke=\"#000000\"/>\n<text fill=\"#000000\" font-family=\"Times,serif\" font-size=\"14.00\" text-anchor=\"middle\" x=\"952\" y=\"-8.3\">multiple</text>\n</g>\n</g>\n</svg>"
          },
          "metadata": {
            "tags": []
          },
          "execution_count": 30
        }
      ]
    },
    {
      "metadata": {
        "id": "CvIblB2ZURK0",
        "colab_type": "text"
      },
      "cell_type": "markdown",
      "source": [
        "The training history shows that the training accuracy and test accuracy are gradually increasing together during epochs. However, at one point and test accuracy will start to decline, which might be the side effect of model's over-fitting. Now it is better stop training."
      ]
    },
    {
      "metadata": {
        "id": "dDBlsvenEbv9",
        "colab_type": "code",
        "colab": {
          "base_uri": "https://localhost:8080/",
          "height": 403
        },
        "outputId": "225f836b-70bf-4814-84a2-04b95a6f86d4"
      },
      "cell_type": "code",
      "source": [
        "viz.neural_network_training(ml.nn_cat_history)"
      ],
      "execution_count": 31,
      "outputs": [
        {
          "output_type": "display_data",
          "data": {
            "image/png": "[encoded data removed]",
            "text/plain": [
              "<matplotlib.figure.Figure at 0x7f5fe1f34160>"
            ]
          },
          "metadata": {
            "tags": []
          }
        }
      ]
    },
    {
      "metadata": {
        "id": "pUzUx-62CaAX",
        "colab_type": "text"
      },
      "cell_type": "markdown",
      "source": [
        "The following confusion matrix for category classification also provides intersting insights on how effective the model is."
      ]
    },
    {
      "metadata": {
        "id": "7h7q7ZLLxHFQ",
        "colab_type": "code",
        "colab": {
          "base_uri": "https://localhost:8080/",
          "height": 437
        },
        "outputId": "48654fee-8e9f-450a-abd2-553ddc12ebfa"
      },
      "cell_type": "code",
      "source": [
        "viz.cnf_matrix_cat(ml.nn_cat_model, True)"
      ],
      "execution_count": 32,
      "outputs": [
        {
          "output_type": "display_data",
          "data": {
            "image/png": "[encoded data removed]",
            "text/plain": [
              "<matplotlib.figure.Figure at 0x7f5fe187d198>"
            ]
          },
          "metadata": {
            "tags": []
          }
        }
      ]
    },
    {
      "metadata": {
        "id": "ero4NpmU9XsF",
        "colab_type": "text"
      },
      "cell_type": "markdown",
      "source": [
        "## Future steps"
      ]
    },
    {
      "metadata": {
        "id": "wrYcgeov0Nas",
        "colab_type": "text"
      },
      "cell_type": "markdown",
      "source": [
        "### The case for IoT security\n",
        "\n",
        "Like any traditional servers or desktops, IoT devices can deploy IDS for better protection. Some notable differences are: 1) IoT devices have limited computational capabilities, 2) IoT devices have relatively simpler system setups but with much more variety, 3) IoT devices can have a large scale in any network, etc.\n",
        "\n",
        "A possible deployment could be: IoT devices collect their own network traffic and convert to a preset format to feed to the label classification model. If an intrusion is predicted, the record is passed to category classification model, get top 2 possible attack types, and notify the admin. If a serious kind of attack is among the 2 attack types, the IoT device will disconnect it from the network immediately.\n",
        "\n",
        "![IoT setup](https://raw.githubusercontent.com/honchao-w/deep-flow-ids/master/images/IoT-setup.png)"
      ]
    },
    {
      "metadata": {
        "id": "sJfGtFKw9crd",
        "colab_type": "text"
      },
      "cell_type": "markdown",
      "source": [
        "### The case for Hyperledger Fabric security\n",
        "\n",
        "Hyperledger Fabric is a blockchain network with its own protocal, topology, and architecute, etc. Like pcap, if we are able to represent a Hyperledger event in a tabular form, such as:\n",
        "\n",
        "| feature 1 | feature 2 | feature 3 | ... | feature n | target 1 | target 2 | ... | target n |\n",
        "| --- | --- | --- | --- | --- | --- | --- | --- | --- |\n",
        "| AAA | BBB | CCC | ... | DDD | EEE | FFF | ... | GGG |\n",
        "\n",
        "If this is possible, then most likely, we can train a specialized machine learning Intrusion detection model for Hyperledger."
      ]
    },
    {
      "metadata": {
        "id": "l1sZJvsh9FEf",
        "colab_type": "text"
      },
      "cell_type": "markdown",
      "source": [
        "### The case for RNN (Recurrent Neural Network)\n",
        "\n",
        "In the above design, I used fully-connected dense layers in the neural network model because it was the sensible choice to make considering the given data format.\n",
        "\n",
        "The way current data is formatted comes from a high-level analysis on raw pcap files powered by third-party libraries. I propose it is possible to train the captured pcap files directly by introducing RNN layers (e.g. LSTM) in the neural network.\n",
        "\n",
        "The assumption is that pcap file is a sequence of activties, and the order of each record provides important context in terms of intrusion detection. To be able to feed data to the RNN, the data should be prepared in this format:\n",
        "\n",
        "- x_train.shape = (samples, timesteps, features)\n",
        "- y_train.shape = (sameples, classes)\n",
        "\n",
        "Again, the challege lies in getting hold of such labeled dataset in large volume."
      ]
    },
    {
      "metadata": {
        "id": "tetke2mkFFS1",
        "colab_type": "text"
      },
      "cell_type": "markdown",
      "source": [
        "## Reference\n",
        "\n",
        "- Moustafa, Nour, and Jill Slay. \"UNSW-NB15: a comprehensive data set for network intrusion detection systems (UNSW-NB15 network data set).\" Military Communications and Information Systems Conference (MilCIS), 2015. IEEE, 2015. \n",
        "- Chollet, François. \"Keras.\" (2015)."
      ]
    }
  ]
}